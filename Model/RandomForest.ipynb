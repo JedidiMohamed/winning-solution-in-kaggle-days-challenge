{
 "cells": [
  {
   "cell_type": "code",
   "execution_count": 4,
   "metadata": {},
   "outputs": [],
   "source": [
    "import sys  \n",
    "sys.path.append(\"../../\")\n",
    "from LIB.utils import * "
   ]
  },
  {
   "cell_type": "code",
   "execution_count": 5,
   "metadata": {},
   "outputs": [],
   "source": [
    "\n",
    "v=\"v6\"\n",
    "\n",
    "train_df=pd.read_csv(\"../features/train_{}.csv\".format(v))\n",
    "test_df=pd.read_csv(\"../features/test_{}.csv\".format(v))"
   ]
  },
  {
   "cell_type": "code",
   "execution_count": 6,
   "metadata": {},
   "outputs": [],
   "source": [
    "# train_df.Sales_first_7_days=np.log1p(train_df.Sales_first_7_days)\n",
    "# test_df.Sales_first_7_days=np.log1p(test_df.Sales_first_7_days)"
   ]
  },
  {
   "cell_type": "code",
   "execution_count": 7,
   "metadata": {},
   "outputs": [
    {
     "data": {
      "text/plain": [
       "Index(['ID', 'month', 'sku_hash', 'product_type', 'product_gender',\n",
       "       'macro_function', 'function', 'sub_function', 'model',\n",
       "       'aesthetic_sub_line',\n",
       "       ...\n",
       "       'Sales_first_7_days', 'first_month_sales', 'ratio',\n",
       "       'count_sales_per_month', 'price_ratio', 'views_count',\n",
       "       'TotalBuzzPost_7_day_before', 'TotalBuzz_7_day_before',\n",
       "       'NetSentiment_7_day_before', 'PositiveSentiment_7_day_before'],\n",
       "      dtype='object', length=117)"
      ]
     },
     "execution_count": 7,
     "metadata": {},
     "output_type": "execute_result"
    }
   ],
   "source": [
    "train_df.columns"
   ]
  },
  {
   "cell_type": "code",
   "execution_count": 10,
   "metadata": {},
   "outputs": [],
   "source": [
    "keys= [\"ID\"]\n",
    "Target_name=\"target_log\"\n",
    "not_used_cols=[\"ID\",'sku_hash', 'product_type', 'product_gender',\n",
    "       'macro_function', 'function', 'sub_function', 'model',\n",
    "       'aesthetic_sub_line', 'macro_material', 'color', 'fr_FR_price',\n",
    "       'en_US_description', 'target', 'target_log',\n",
    "                'ratio_function_month1_2',\n",
    "  'ratio_function_month2_3',\n",
    "  'ratio_function_month1_3',\"ratio\",\"count_sales_per_month\",\n",
    "              \n",
    "              \"price_ratio\",\"views_count\",  'TotalBuzzPost_7_day_before',\n",
    "  'TotalBuzz_7_day_before',\n",
    "  'NetSentiment_7_day_before',\n",
    "  'PositiveSentiment_7_day_before']\n",
    "    \n",
    "\n",
    "feautres_name=[ f for f in test_df.columns if f not in not_used_cols]\n",
    "from sklearn.metrics import mean_squared_error\n",
    "def eval_metrics(y_ture,y_hat):\n",
    "    return np.sqrt(mean_squared_error(y_ture,y_hat))\n"
   ]
  },
  {
   "cell_type": "code",
   "execution_count": 11,
   "metadata": {},
   "outputs": [
    {
     "data": {
      "text/plain": [
       "(94,\n",
       " ['month',\n",
       "  'target_log_by_product_type_mean',\n",
       "  'target_log_by_product_type_min',\n",
       "  'target_log_by_product_type_std',\n",
       "  'target_log_by_product_gender_mean',\n",
       "  'target_log_by_product_gender_min',\n",
       "  'target_log_by_product_gender_std',\n",
       "  'target_log_by_macro_function_mean',\n",
       "  'target_log_by_macro_function_min',\n",
       "  'target_log_by_macro_function_std',\n",
       "  'target_log_by_function_mean',\n",
       "  'target_log_by_function_min',\n",
       "  'target_log_by_function_std',\n",
       "  'target_log_by_sub_function_mean',\n",
       "  'target_log_by_sub_function_min',\n",
       "  'target_log_by_sub_function_std',\n",
       "  'target_log_by_aesthetic_sub_line_mean',\n",
       "  'target_log_by_aesthetic_sub_line_min',\n",
       "  'target_log_by_aesthetic_sub_line_std',\n",
       "  'target_log_by_macro_material_mean',\n",
       "  'target_log_by_macro_material_min',\n",
       "  'target_log_by_macro_material_std',\n",
       "  'type_tf_idf_pca_0',\n",
       "  'type_tf_idf_pca_1',\n",
       "  'type_tf_idf_pca_2',\n",
       "  'type_tf_idf_pca_3',\n",
       "  'type_tf_idf_pca_4',\n",
       "  'type_tf_idf_pca_5',\n",
       "  'type_tf_idf_pca_6',\n",
       "  'type_tf_idf_pca_7',\n",
       "  'type_tf_idf_pca_8',\n",
       "  'type_tf_idf_pca_9',\n",
       "  'type_tf_idf_pca_10',\n",
       "  'type_tf_idf_pca_11',\n",
       "  'type_tf_idf_pca_12',\n",
       "  'type_tf_idf_pca_13',\n",
       "  'type_tf_idf_pca_14',\n",
       "  'type_tf_idf_pca_15',\n",
       "  'type_tf_idf_pca_16',\n",
       "  'type_tf_idf_pca_17',\n",
       "  'type_tf_idf_pca_18',\n",
       "  'type_tf_idf_pca_19',\n",
       "  'rez_net0',\n",
       "  'rez_net1',\n",
       "  'rez_net2',\n",
       "  'rez_net3',\n",
       "  'rez_net4',\n",
       "  'rez_net5',\n",
       "  'rez_net6',\n",
       "  'rez_net7',\n",
       "  'rez_net8',\n",
       "  'rez_net9',\n",
       "  'rez_net10',\n",
       "  'rez_net11',\n",
       "  'rez_net12',\n",
       "  'rez_net13',\n",
       "  'rez_net14',\n",
       "  'rez_net15',\n",
       "  'rez_net16',\n",
       "  'rez_net17',\n",
       "  'rez_net18',\n",
       "  'rez_net19',\n",
       "  'rez_net20',\n",
       "  'rez_net21',\n",
       "  'rez_net22',\n",
       "  'rez_net23',\n",
       "  'rez_net24',\n",
       "  'rez_net25',\n",
       "  'rez_net26',\n",
       "  'rez_net27',\n",
       "  'rez_net28',\n",
       "  'rez_net29',\n",
       "  'rez_net30',\n",
       "  'rez_net31',\n",
       "  'rez_net32',\n",
       "  'rez_net33',\n",
       "  'rez_net34',\n",
       "  'rez_net35',\n",
       "  'rez_net36',\n",
       "  'rez_net37',\n",
       "  'rez_net38',\n",
       "  'rez_net39',\n",
       "  'rez_net40',\n",
       "  'rez_net41',\n",
       "  'rez_net42',\n",
       "  'rez_net43',\n",
       "  'rez_net44',\n",
       "  'rez_net45',\n",
       "  'rez_net46',\n",
       "  'rez_net47',\n",
       "  'rez_net48',\n",
       "  'rez_net49',\n",
       "  'Sales_first_7_days',\n",
       "  'first_month_sales'])"
      ]
     },
     "execution_count": 11,
     "metadata": {},
     "output_type": "execute_result"
    }
   ],
   "source": [
    "len(feautres_name),feautres_name"
   ]
  },
  {
   "cell_type": "code",
   "execution_count": null,
   "metadata": {},
   "outputs": [],
   "source": []
  },
  {
   "cell_type": "code",
   "execution_count": 31,
   "metadata": {},
   "outputs": [],
   "source": [
    "from sklearn.model_selection import KFold\n",
    "from sklearn.ensemble import RandomForestRegressor\n",
    "K = 5\n",
    "kf = KFold(n_splits = K, random_state = 2019, shuffle = True)\n",
    "X_train=train_df[feautres_name].values\n",
    "X_test=test_df[feautres_name].values\n",
    "X_target=train_df[\"target_log\"].values\n",
    "valid=np.zeros_like(X_target)\n",
    "xgb_pred=np.zeros(len(test_df))\n",
    "for train_index, test_index in kf.split(train_df):\n",
    "   \n",
    "    train_X, valid_X = X_train[train_index,:], X_train[test_index,:]\n",
    "    train_y, valid_y = X_target[train_index], X_target[test_index]\n",
    "\n",
    "    \n",
    "    model = RandomForestRegressor()\n",
    "    model.fit(train_X,train_y)\n",
    "    valid[test_index] =model.predict(valid_X)                \n",
    "    xgb_pred = xgb_pred+model.predict(X_test)/(K)\n",
    "  "
   ]
  },
  {
   "cell_type": "code",
   "execution_count": 32,
   "metadata": {},
   "outputs": [
    {
     "name": "stdout",
     "output_type": "stream",
     "text": [
      "0.5198323254529061\n"
     ]
    }
   ],
   "source": [
    "from sklearn.metrics import mean_squared_error \n",
    "print( np.sqrt(mean_squared_error(valid,X_target)))"
   ]
  },
  {
   "cell_type": "code",
   "execution_count": 33,
   "metadata": {},
   "outputs": [],
   "source": [
    "sub=test_df[[\"ID\"]]\n",
    "sub[\"target\"]=np.expm1(xgb_pred)"
   ]
  },
  {
   "cell_type": "code",
   "execution_count": 34,
   "metadata": {},
   "outputs": [],
   "source": [
    "sub[\"target\"]=sub[\"target\"].round()"
   ]
  },
  {
   "cell_type": "code",
   "execution_count": 35,
   "metadata": {},
   "outputs": [],
   "source": [
    "sub[[\"ID\",\"target\"]].to_csv(\"../sub/random.csv\",index=False)"
   ]
  },
  {
   "cell_type": "code",
   "execution_count": null,
   "metadata": {},
   "outputs": [],
   "source": []
  }
 ],
 "metadata": {
  "kernelspec": {
   "display_name": "Python 3",
   "language": "python",
   "name": "python3"
  },
  "language_info": {
   "codemirror_mode": {
    "name": "ipython",
    "version": 3
   },
   "file_extension": ".py",
   "mimetype": "text/x-python",
   "name": "python",
   "nbconvert_exporter": "python",
   "pygments_lexer": "ipython3",
   "version": "3.5.2"
  }
 },
 "nbformat": 4,
 "nbformat_minor": 2
}
